{
 "cells": [
  {
   "cell_type": "code",
   "execution_count": 1,
   "metadata": {},
   "outputs": [],
   "source": [
    "import requests\n",
    "import json\n",
    "from bs4 import BeautifulSoup\n",
    "\n",
    "import ast\n",
    "import pandas as pd\n",
    "import csv\n",
    "from csv import DictWriter, DictReader\n",
    "\n",
    "import os\n",
    "from PIL import Image"
   ]
  },
  {
   "cell_type": "code",
   "execution_count": 15,
   "metadata": {
    "tags": []
   },
   "outputs": [
    {
     "name": "stdout",
     "output_type": "stream",
     "text": [
      "Page 7\n",
      "Page 8\n",
      "Page 9\n",
      "Page 10\n",
      "Page 11\n",
      "Page 12\n",
      "Page 13\n",
      "Page 14\n",
      "Page 15\n"
     ]
    }
   ],
   "source": [
    "main()"
   ]
  },
  {
   "cell_type": "code",
   "execution_count": null,
   "metadata": {
    "jupyter": {
     "source_hidden": true
    },
    "tags": []
   },
   "outputs": [],
   "source": [
    "# ambil data tambahan dari page new release per genre\n",
    "def get_new_release(page, dir_path, header, cookies):\n",
    "    request = requests.get(page, headers=header, cookies=cookies)\n",
    "    \n",
    "    soup = BeautifulSoup(request.text, 'html.parser')\n",
    "    row = soup.find_all('div', class_='coverWrapper')\n",
    "    \n",
    "    for r in row:\n",
    "        href = r.find('a')['href']\n",
    "        \n",
    "        single_page = 'http://www.goodreads.com'+href\n",
    "        single_req = requests.get(single_page, headers=header, cookies=cookies)\n",
    "        \n",
    "        single_soup = BeautifulSoup(single_req.text, 'html.parser')\n",
    "        get_data_each_book(single_soup, dir_path)"
   ]
  },
  {
   "cell_type": "code",
   "execution_count": null,
   "metadata": {
    "jupyter": {
     "source_hidden": true
    },
    "tags": []
   },
   "outputs": [],
   "source": [
    "# cari buku dari isbn di folder lama (untuk perbaikan data training)\n",
    "def search_book(file_dir, save_dir, header, cookies):\n",
    "    file_isbn = os.listdir(file_dir)\n",
    "    \n",
    "    for file in file_isbn:\n",
    "        isbn = file.strip('.jpg .png')\n",
    "        \n",
    "        if file not in os.listdir(save_dir):\n",
    "#             print(isbn)\n",
    "            len_string = str(len(isbn))\n",
    "            url = 'https://www.goodreads.com/search?q='+isbn+'&ref=nav_sb_noss_l_'+len_string\n",
    "            request = requests.get(url, headers=header, cookies=cookies)\n",
    "\n",
    "            soup = BeautifulSoup(request.text,'html.parser')\n",
    "            tag = soup.find('h3', class_='searchSubNavContainer')\n",
    "\n",
    "            if tag is None:\n",
    "                get_data_each_book(soup, save_dir)\n",
    "            elif tag.text=='No results.':\n",
    "                pass\n",
    "        else:\n",
    "#             os.remove(file_dir+'/'+file)\n",
    "            pass"
   ]
  },
  {
   "cell_type": "code",
   "execution_count": 2,
   "metadata": {
    "tags": []
   },
   "outputs": [],
   "source": [
    "def get_best_book(page, csv_name, header, cookies): \n",
    "    request = requests.get(page, headers=header, cookies=cookies) \n",
    "    \n",
    "    soup = BeautifulSoup(request.text, 'html.parser')\n",
    "    row = soup.find_all('td', attrs={'width':'100%'})\n",
    "    \n",
    "    for r in row:\n",
    "        href = r.find('a', class_='bookTitle')['href']\n",
    "        \n",
    "        single_page = 'https://www.goodreads.com'+href\n",
    "        request = requests.get(single_page, headers=header, cookies=cookies)\n",
    "        single_soup = BeautifulSoup(request.text, 'html.parser')\n",
    "        \n",
    "        get_data_each_book(single_soup, csv_name)"
   ]
  },
  {
   "cell_type": "code",
   "execution_count": 3,
   "metadata": {
    "tags": []
   },
   "outputs": [],
   "source": [
    "# get book data from each page\n",
    "def get_data_each_book(soup, csv_name):#, save_dir): #dir_path):\n",
    "    title = soup.find('h1', class_='Text Text__title1').text\n",
    "    cover = soup.find('img', class_='BookCover__image')['src']\n",
    "    isbn = get_isbn(soup)\n",
    "    \n",
    "    # untuk yg best_book\n",
    "    link = soup.find('img', class_='BookCover__image')['data-csa-c-content-id']\n",
    "    genre = get_genre(soup, link)\n",
    "    \n",
    "    to_csv_best_book(title, isbn, genre, cover, csv_name)\n",
    "    \n",
    "#     # untuk yg search_book\n",
    "#     print(isbn+'  __  '+cover)\n",
    "#     if cover!='':\n",
    "#         save_image(isbn, cover, save_dir)\n",
    "#     else:\n",
    "#         pass"
   ]
  },
  {
   "cell_type": "code",
   "execution_count": 4,
   "metadata": {
    "tags": []
   },
   "outputs": [],
   "source": [
    "# get book's isbn\n",
    "def get_isbn(soup):\n",
    "    script = soup.find('script', attrs={'type':'application/ld+json'})\n",
    "    json_object = json.loads(script.contents[0])\n",
    "    \n",
    "    if 'isbn' not in json_object:\n",
    "        isbn = (json_object['image'].split('/')[-1]).strip('.jpg')\n",
    "    else:\n",
    "        isbn = json_object['isbn']\n",
    "    return isbn"
   ]
  },
  {
   "cell_type": "code",
   "execution_count": 5,
   "metadata": {
    "tags": []
   },
   "outputs": [],
   "source": [
    "# get book's genre \n",
    "def get_genre(soup, link):\n",
    "    script = soup.find('script', attrs={'id':'__NEXT_DATA__'})\n",
    "    json_object = json.loads(script.contents[0])\n",
    "    json_genre = json_object['props']['pageProps']['apolloState']['Book:'+link]['bookGenres']\n",
    "    pd = []\n",
    "    \n",
    "    for genre_list in json_genre:\n",
    "        genre = genre_list['genre']['name']\n",
    "        \n",
    "        if (genre=='Fantasy' or genre=='Science Fiction' or genre=='Epic Fantasy' or genre=='Urban Fantasy' or genre=='Dark Fantasy' or genre=='Fairy Tales'\n",
    "            or genre=='General' or genre=='Literary Fiction' or genre=='Literature' or genre=='General Fiction' or genre=='Contemporary' \n",
    "            or genre=='Realistic Fiction' or genre=='Coming of Age' or genre=='Horror' or genre=='Paranormal' or genre=='Gothic Horror' \n",
    "            or genre=='Ghost Stories' or genre=='Ghost' or genre=='Mystery' or genre=='Thriller' or genre=='Mystery Thriller' \n",
    "            or genre=='Psychological Thriller' or genre=='Historical Mystery' or genre=='Detective' or genre=='Murder Mystery' or genre=='Romance' \n",
    "            or genre=='Historical Romance' or genre=='Contemporary Romance'):\n",
    "            pd.append(genre)\n",
    "    return pd"
   ]
  },
  {
   "cell_type": "code",
   "execution_count": 6,
   "metadata": {
    "tags": []
   },
   "outputs": [],
   "source": [
    "# save title, isbn, and cover url to file csv\n",
    "def to_csv_best_book(title, isbn, genre, cover, csv_name):\n",
    "    fields = ['title', 'isbn', 'genre', 'url_cover']\n",
    "    bookcsv = {'title':title, 'isbn':{isbn}, 'genre': genre, 'url_cover':cover}\n",
    "\n",
    "    if not os.path.exists(csv_name):\n",
    "        with open(csv_name, 'a+', encoding='utf-8', newline='') as csvfile:\n",
    "            writer = DictWriter(csvfile, fieldnames=fields)\n",
    "            writer.writeheader()\n",
    "            writer.writerow(bookcsv)\n",
    "    else:\n",
    "        with open(csv_name, 'a+', encoding='utf-8', newline='') as csvfile:\n",
    "            writer = DictWriter(csvfile, fieldnames=fields)\n",
    "            writer.writerow(bookcsv)"
   ]
  },
  {
   "cell_type": "code",
   "execution_count": 7,
   "metadata": {
    "tags": []
   },
   "outputs": [],
   "source": [
    "def to_csv_genre(csv_source, cvs_genre): \n",
    "    with open(csv_source) as csvfile:\n",
    "        reader = DictReader(csvfile)\n",
    "        for row in reader:\n",
    "            f = h = g = m = r = 0\n",
    "            \n",
    "            title = row['title']\n",
    "            isbn = row['isbn']\n",
    "            genre_list = row['genre']\n",
    "            url = row['url_cover']\n",
    "            \n",
    "            if genre_list!='[]' or url!='[]':\n",
    "                genres = ast.literal_eval(genre_list)\n",
    "\n",
    "                for genre in genres:\n",
    "                    if(genre=='Fantasy' or genre=='Science Fiction' or genre=='Epic Fantasy' or genre=='Urban Fantasy' or genre=='Dark Fantasy' \n",
    "                       or genre=='Fairy Tales'):\n",
    "                        f=1\n",
    "                    elif(genre=='General' or genre == 'Literature'  or genre=='Literary Fiction' or genre=='General Fiction' or genre=='Contemporary' \n",
    "                          or genre=='Realistic Fiction' or genre=='Coming of Age'):\n",
    "                        g=1\n",
    "                    elif(genre=='Horror' or genre=='Paranormal' or genre=='Gothic Horror' or genre=='Ghost Stories' or genre=='Ghost'):\n",
    "                        h=1\n",
    "                    elif(genre=='Mystery' or genre=='Thriller' or genre=='Mystery Thriller' or genre=='Psychological Thriller' or genre=='Historical Mystery' \n",
    "                          or genre=='Detective' or genre=='Murder Mystery'):\n",
    "                        m=1\n",
    "                    elif(genre=='Romance' or genre=='Historical Romance' or genre=='Contemporary Romance'):\n",
    "                        r=1\n",
    "\n",
    "                fields = ['title', 'isbn', 'fantasy', 'general', 'horror', 'mystery', 'romance', 'url_cover']\n",
    "                bookcsv = {'title':title, 'isbn':isbn, 'fantasy':f, 'general':g, 'horror':h, 'mystery':m, 'romance':r, 'url_cover':url}\n",
    "\n",
    "                if not os.path.exists(csv_genre):\n",
    "                    with open(csv_genre, 'a+', encoding='utf-8', newline='') as csvfile:\n",
    "                        writer = DictWriter(csvfile, fieldnames=fields)\n",
    "                        writer.writeheader()\n",
    "                        writer.writerow(bookcsv)\n",
    "                else:\n",
    "                    with open(csv_genre, 'a', encoding='utf-8', newline='') as csvfile:\n",
    "                        writer = DictWriter(csvfile, fieldnames=fields)\n",
    "                        writer.writerow(bookcsv)\n",
    "            \n",
    "            else:\n",
    "                print('Skip '+title+' genre atau cover null.')"
   ]
  },
  {
   "cell_type": "code",
   "execution_count": 8,
   "metadata": {
    "tags": []
   },
   "outputs": [],
   "source": [
    "# load url cover to save cover image to device with isbn as the name\n",
    "def load_from_csv(csv_name, dir_path):\n",
    "    with open(csv_name) as csvfile:\n",
    "        reader = DictReader(csvfile)\n",
    "        for row in reader:\n",
    "            isbn = row['isbn']\n",
    "            cover = row['url_cover']\n",
    "            \n",
    "            save_image(isbn, cover, dir_path)"
   ]
  },
  {
   "cell_type": "code",
   "execution_count": 9,
   "metadata": {
    "tags": []
   },
   "outputs": [],
   "source": [
    "# save book cover image \n",
    "def save_image(isbn, url, dir_path):\n",
    "    filename = isbn+'.jpg' \n",
    "    folder_path = dir_path + filename\n",
    "    \n",
    "    if filename not in os.listdir(dir_path):\n",
    "        req = requests.get(url, stream=True)\n",
    "        if req.status_code==200:\n",
    "            image = Image.open(req.raw)\n",
    "            image.convert('RGB').save(folder_path, quality=100)\n",
    "        else:\n",
    "            print('-----------------------------------------Hapus isbn '+isbn+' di bestbook.csv!--------------------------------------------')"
   ]
  },
  {
   "cell_type": "code",
   "execution_count": null,
   "metadata": {
    "jupyter": {
     "source_hidden": true
    },
    "tags": []
   },
   "outputs": [],
   "source": [
    "# resize book cover image then save the resized file, filename='isbn.jpg'\n",
    "def resize_image(filename, width, dir_path):\n",
    "    resize_path = dir_path+filename\n",
    "    \n",
    "    img = Image.open(filename)\n",
    "    img = img.resize((width, width), Image.ANTIALIAS)\n",
    "    img.save(resize_path, quality=100)"
   ]
  },
  {
   "cell_type": "code",
   "execution_count": null,
   "metadata": {
    "jupyter": {
     "source_hidden": true
    },
    "tags": []
   },
   "outputs": [],
   "source": [
    "# save title, isbn, genres to csv for genre label\n",
    "def csv_genre(csv_genre):\n",
    "    fields = ['title', 'isbn', 'fantasy', 'horror', 'literary_fiction', 'mystery', 'romance']\n",
    "    bookcsv = {'title':title, 'isbn':isbn, 'fantasy':f, 'horror':h, 'literary_fiction':lf, 'mystery':m, 'romance':r}\n",
    "\n",
    "    if not os.path.exists(csv_genre):\n",
    "        with open(csv_genre, 'a+', newline='') as csvfile:\n",
    "            writer = DictWriter(csvfile, fieldnames=fields)\n",
    "            writer.writeheader()\n",
    "            writer.writerow(bookcsv)\n",
    "    else:\n",
    "        with open(csv_genre, 'a', newline='') as csvfile:\n",
    "            writer = DictWriter(csvfile, fieldnames=fields)\n",
    "            writer.writerow(bookcsv)"
   ]
  },
  {
   "cell_type": "code",
   "execution_count": 14,
   "metadata": {
    "tags": []
   },
   "outputs": [],
   "source": [
    "def main():#genre):\n",
    "    cookies = {\n",
    "        'p': '7MwzXHKHiVxkh8eUg0yexRqR7j7jgidcU_xc65ih_FatI2-l',\n",
    "        'ccsid': '612-0793395-0086739',\n",
    "        'locale': 'en',\n",
    "        '__qca': 'P0-1068727077-1635475725541',\n",
    "        'logged_out_browsing_page_count': '2',\n",
    "        'u': '3tKr8P1RiuWXO-hWNd8ai0HlqjjSAcsntLil-R8sqMuuULuD',\n",
    "        'likely_has_account': 'true',\n",
    "        'csm-sid': '351-9527432-3091124',\n",
    "        '_session_id2': 'c6a4485b29a791378d4f8dd83e0d5f5b',\n",
    "        'srb_1': '1_wl',\n",
    "    }\n",
    "\n",
    "    headers = {\n",
    "        'Connection': 'keep-alive',\n",
    "        'Cache-Control': 'max-age=0',\n",
    "        'sec-ch-ua': '\"Google Chrome\";v=\"95\", \"Chromium\";v=\"95\", \";Not A Brand\";v=\"99\"',\n",
    "        'sec-ch-ua-mobile': '?0',\n",
    "        'sec-ch-ua-platform': '\"Windows\"',\n",
    "        'DNT': '1',\n",
    "        'Upgrade-Insecure-Requests': '1',\n",
    "        'User-Agent': 'Mozilla/5.0 (Windows NT 10.0; Win64; x64) AppleWebKit/537.36 (KHTML, like Gecko) Chrome/95.0.4638.54 Safari/537.36',\n",
    "        'Accept': 'text/html,application/xhtml+xml,application/xml;q=0.9,image/avif,image/webp,image/apng,*/*;q=0.8,application/signed-exchange;v=b3;q=0.9',\n",
    "        'Sec-Fetch-Site': 'same-origin',\n",
    "        'Sec-Fetch-Mode': 'navigate',\n",
    "        'Sec-Fetch-User': '?1',\n",
    "        'Sec-Fetch-Dest': 'document',\n",
    "        'Referer': 'https://www.goodreads.com/book/show/51457170-blood-heir',\n",
    "        'Accept-Language': 'en-US,en;q=0.9,id;q=0.8',\n",
    "        'If-None-Match': 'W/\"47657-on/6fBsXMVqOkNwnZqCifG3TsDs\"',\n",
    "    }\n",
    "    \n",
    "#     file_dir = 'train/general'\n",
    "#     save_dir = 'test/'\n",
    "#     search_book(file_dir, save_dir, headers, cookies)\n",
    "    \n",
    "#     new_release = 'https://www.goodreads.com/genres/new_releases/'+genre\n",
    "#     nr_dir = 'new_release/'\n",
    "#     get_new_release(new_release, nr_dir, headers, cookies)\n",
    "    \n",
    "    csv_best_book = 'best_book_2018.csv'\n",
    "    csv_test = 'test.csv'\n",
    "    test_dir = 'test/'\n",
    "    \n",
    "    for i in range(7,16):\n",
    "        page = 'https://www.goodreads.com/list/show/119307.Best_Books_of_2018?page='+str(i)\n",
    "        get_best_book(page, csv_best_book, headers, cookies)\n",
    "        print('Page '+str(i))\n",
    "    \n",
    "#     to_csv_genre(csv_best_book, csv_test)\n",
    "    \n",
    "#     load_from_csv(csv_test, test_dir)"
   ]
  },
  {
   "cell_type": "code",
   "execution_count": null,
   "metadata": {},
   "outputs": [],
   "source": []
  }
 ],
 "metadata": {
  "kernelspec": {
   "display_name": "Python 3",
   "language": "python",
   "name": "python3"
  },
  "language_info": {
   "codemirror_mode": {
    "name": "ipython",
    "version": 3
   },
   "file_extension": ".py",
   "mimetype": "text/x-python",
   "name": "python",
   "nbconvert_exporter": "python",
   "pygments_lexer": "ipython3",
   "version": "3.7.4"
  },
  "toc-showmarkdowntxt": false
 },
 "nbformat": 4,
 "nbformat_minor": 4
}
